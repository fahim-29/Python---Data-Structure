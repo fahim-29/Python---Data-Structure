{
 "cells": [
  {
   "cell_type": "code",
   "execution_count": null,
   "id": "e4fcdd1d-c42d-4fbe-af80-159fcbbdb5d2",
   "metadata": {
    "tags": []
   },
   "outputs": [],
   "source": []
  },
  {
   "cell_type": "markdown",
   "id": "b610a8f6-27d0-48d2-9936-af450d40e3c4",
   "metadata": {
    "tags": []
   },
   "source": [
    "## Name : Fahim Ahmad\n",
    "## Assignment(2) : Data Types and Structures\n",
    "## Date : May, 14, 2025"
   ]
  },
  {
   "cell_type": "markdown",
   "id": "851010d0-21f5-473b-be5d-8eae41cea173",
   "metadata": {
    "tags": []
   },
   "source": [
    "#### 1. What are data structures, and why are they important ?"
   ]
  },
  {
   "cell_type": "markdown",
   "id": "511fcbb6-010e-4542-b7c2-cf9c7836023e",
   "metadata": {},
   "source": [
    "* Data structures in Python are ways to store and organize data so that it can be accessed and modified efficiently.\n",
    "* Examples\n",
    "* List \n",
    "Example: numbers = [1, 2, 3, 4]\n",
    "\n",
    "* Tuple \n",
    "Example: coordinates = (10, 20)\n",
    "\n",
    "* Set \n",
    "Example: unique_numbers = {1, 2, 3}\n",
    "\n",
    "* Dictionary \n",
    "Example: person = {\"name\": \"Fahim\", \"age\": 24}\n",
    " * **IMPORTANCE**\n",
    "* Data structures are essential for writing clean, efficient, and scalable Python code.\n",
    "\n",
    "* Knowing which data structure to use can greatly affect your program’s performance and complexity.\n",
    "\n",
    "\n"
   ]
  },
  {
   "cell_type": "markdown",
   "id": "81661378-65ac-4e15-b1f4-eefa1f27ad72",
   "metadata": {},
   "source": [
    "#### 2 Explain the difference between mutable and immutable data types with examples"
   ]
  },
  {
   "cell_type": "markdown",
   "id": "05cde56e-63f5-4a2b-a007-04e63b16ad32",
   "metadata": {},
   "source": [
    "* **Mutable** objects can be changed after they are created\n",
    "* These can be modified (elements can be changed, added, or removed)\n",
    "* **Examples**\n",
    "* List\n",
    "* Set\n",
    "* Dictionary\n",
    "* **Immutable** objects cannot be changed after they are created. Any operation that seems to modify them actually creates a new object.\n",
    "* These cannot be changed once created. If you try to modify them, Python will throw error\n",
    "* **Examples**\n",
    "* Tuple\n",
    "* Integer\n"
   ]
  },
  {
   "cell_type": "markdown",
   "id": "906322a3-055c-4cbe-add0-c94ec8399de2",
   "metadata": {},
   "source": [
    "#### 3. What are the main differences between lists and tuples in Python ?"
   ]
  },
  {
   "cell_type": "markdown",
   "id": "fac625a5-ae6c-48e0-96f1-8ccca909cd39",
   "metadata": {},
   "source": [
    "\n",
    " - **Lists** are mutable as they are meant to be changed and manipulated over time.\n",
    "- Syntax\t[] – Square brackets\n",
    "- Use lists when you need to change data (add, remove, or update).\n",
    "\n",
    "- **Tuples** are immutable as they provide a lightweight, fixed collection that ensures data integrity and can be used in contexts that require immutability, like dictionary keys.\n",
    "- Syntax() – Round brackets\n",
    "- Use tuples when you want fixed, read-only data."
   ]
  },
  {
   "cell_type": "markdown",
   "id": "73c9b3b2-318f-437e-a5d1-8a7d7359fae7",
   "metadata": {},
   "source": [
    "####  4. Describe how dictionaries store dataP"
   ]
  },
  {
   "cell_type": "markdown",
   "id": "ffb4b02e-6b48-47a3-8f2a-a638588bd9e1",
   "metadata": {},
   "source": [
    "- A dictionary in Python stores data as **key-value pairs** using a highly efficient structure called a hash table.\n",
    "- **Examples**\n",
    "- person = {\n",
    "    \"name\": \"Fahim\",\n",
    "    \"age\": 24,\n",
    "    \"city\": \"Mumbai\"\n",
    "}\n",
    "\n",
    "- \"name\", \"age\", and \"city\" are the **keys.**\n",
    "\n",
    "- \"Fahim\", 24, and \"Mumbai\" are the **values**\n",
    "\n",
    "\n",
    "\n"
   ]
  },
  {
   "cell_type": "markdown",
   "id": "cea3a014-a8c4-466c-be20-d190e317c21d",
   "metadata": {},
   "source": [
    "#### 5. Why might you use a set instead of a list in Python ?"
   ]
  },
  {
   "cell_type": "markdown",
   "id": "aadeec74-ad8c-437b-83bf-2412d631b2f6",
   "metadata": {},
   "source": [
    "- A set and a list are both used to store collections of items, but sets have some key advantages in specific situations.\n",
    "\n",
    "- **When to use set over List**\n",
    "- You Need Unique Elements\n",
    "- Sets automatically remove duplicates.\n",
    "- Sets are faster than lists when checking if an item exists\n",
    "- Sets support union, intersection, difference, etc.\n",
    "\n"
   ]
  },
  {
   "cell_type": "markdown",
   "id": "2e322aae-da58-4018-a0eb-f990c05e87a3",
   "metadata": {},
   "source": [
    "#### 6. What is a string in Python, and how is it different from a list ?"
   ]
  },
  {
   "cell_type": "markdown",
   "id": "fabc2a6e-820b-4293-a615-ce4abafb02e6",
   "metadata": {},
   "source": [
    "- A string in Python is a sequence of characters enclosed in quotes.\n",
    "- You can use single ' ', double \" \"\n",
    "- **Example**\n",
    "- Name = \"Fahim\"\n",
    "\n",
    "- A string is immutable; a list is mutable.\n",
    "- A string contains only characters; a list can contain any data types.\n",
    "- Strings have string-specific methods (e.g., .upper(), .replace()); lists have list-specific methods (e.g., .append(), .pop()).\n",
    "- String elements are always of type str; list elements can be of mixed type"
   ]
  },
  {
   "cell_type": "markdown",
   "id": "3e1e31d4-f912-4af0-9c40-f6fe9d0b6beb",
   "metadata": {},
   "source": [
    "#### 7.  How do tuples ensure data integrity in Python ?"
   ]
  },
  {
   "cell_type": "markdown",
   "id": "c6e0ae16-8b77-442c-83bf-fcc23bd1b804",
   "metadata": {},
   "source": [
    "- Tuples help ensure data integrity by being immutable, meaning their contents cannot be changed once created\n",
    "- Once a tuple is defined, its elements cannot be added, removed, or altered.\n",
    "- Tuples ensure data integrity in Python by being unchangeable, making them ideal for safe, consistent, and reliable data handling."
   ]
  },
  {
   "cell_type": "markdown",
   "id": "a66c9167-1099-4551-8223-955f0cd635e8",
   "metadata": {},
   "source": [
    "#### 8. What is a hash table, and how does it relate to dictionaries in Python ?"
   ]
  },
  {
   "cell_type": "markdown",
   "id": "2842373d-4b23-4be8-983c-1e30722523a4",
   "metadata": {},
   "source": [
    "- A hash table is a data structure that stores data in key-value pairs and uses a hash function to compute an index (hash value) into an array of buckets or slots, from which the desired value can be found.\n",
    "- Key-Value Storage: Like a hash table, a dictionary stores data in key-value pairs.\n",
    "- Just like a hash table, dictionaries provide fast access to values when given their key\n",
    "- Python dictionaries are built on hash tables, allowing for efficient storage and retrieval of data using keys.\n"
   ]
  },
  {
   "cell_type": "markdown",
   "id": "bf109ac4-4a63-450d-92de-93a76cfdee18",
   "metadata": {},
   "source": [
    "#### 9. Can lists contain different data types in Python ?"
   ]
  },
  {
   "cell_type": "markdown",
   "id": "4fcd7a51-8891-45ef-943d-7da01f9c1885",
   "metadata": {},
   "source": [
    "- Yes, lists in Python can contain different data types. A single list can store integers, strings, floats, booleans, and even other lists or objects of any type.\n",
    "- **Example**\n",
    "- List = [42, \"Hello\", 3.14, True, [1, 2, 3]]\n"
   ]
  },
  {
   "cell_type": "markdown",
   "id": "f1ff3b83-deba-4456-aeed-495e05213862",
   "metadata": {},
   "source": [
    "#### 10.  Explain why strings are immutable in Python ?"
   ]
  },
  {
   "cell_type": "markdown",
   "id": "4c2dd9cc-72cb-4b8c-88a4-f584f1f54ad2",
   "metadata": {},
   "source": [
    "- Strings are immutable in Python because:\n",
    "\n",
    "- **Performance:** String interning and memory optimization.\n",
    "\n",
    "- **Reliability:** Ensures consistency and avoids unexpected changes.\n",
    "\n",
    "- **Hashability:** Strings can be used as dictionary keys or set elements.\n",
    "\n",
    "- **Simplicity:** Makes string handling easier and less error-prone."
   ]
  },
  {
   "cell_type": "markdown",
   "id": "6d2286d8-e22a-49da-b98a-84ff10593d22",
   "metadata": {},
   "source": [
    "#### 11. What advantages do dictionaries offer over lists for certain tasks ?"
   ]
  },
  {
   "cell_type": "markdown",
   "id": "845c6dcd-0c24-4a43-8243-687ae6006596",
   "metadata": {},
   "source": [
    "- **Dictionaries** offer several advantages over lists in the following cases:\n",
    "\n",
    "- Fast lookups and direct access using keys.\n",
    "\n",
    "- Storing key-value pairs for associative data.\n",
    "\n",
    "- No need for indexing; access via descriptive keys.\n",
    "\n",
    "- Handling missing data easily with .get().\n",
    "\n",
    "- Efficient deletion by key.\n",
    "\n"
   ]
  },
  {
   "cell_type": "markdown",
   "id": "86fe3ada-583b-4e57-a2ed-85d52eb7a918",
   "metadata": {},
   "source": [
    "#### 12. Describe a scenario where using a tuple would be preferable over a list ?"
   ]
  },
  {
   "cell_type": "markdown",
   "id": "e80cba0a-0a2e-4f4d-a039-33751026d6bf",
   "metadata": {},
   "source": [
    "- A tuple is preferable over a list when you have immutable data that should not be modified during the program’s execution.The immutability of tuples ensures data integrity and safety, preventing accidental changes.\n",
    "\n",
    "- In a scenario where you need to store an employee's information and you want to ensure data integrity, a tuple can be a great choice. Let’s say you need to store an employee's ID, name, and department in a way that cannot be modified accidentally.\n",
    "\n",
    "- **Why Use a Tuple**\n",
    "- The employee ID is typically a unique identifier that should not change once assigned, so using a tuple guarantees its immutability.\n",
    "\n",
    "- A tuple is perfect for storing fixed sets of related data like an employee’s ID, name, and department.\n",
    "- Tuples are an ideal choice for storing immutable data like employee IDs, ensuring that the data remains unchanged."
   ]
  },
  {
   "cell_type": "markdown",
   "id": "b8a89465-45f8-4154-8f44-d53d15966f5b",
   "metadata": {},
   "source": [
    "#### 13. How do sets handle duplicate values in Python?"
   ]
  },
  {
   "cell_type": "markdown",
   "id": "41ae6201-f6c5-4bfe-9c74-a2a2b6599378",
   "metadata": {
    "tags": []
   },
   "source": [
    "- **sets** are collections of unique items. They automatically remove duplicates and only store distinct elements. This means that if you try to add duplicate values to a set,Python checks if the item is already present. If it is, the item is not added again.\n",
    "\n"
   ]
  },
  {
   "cell_type": "markdown",
   "id": "42070e4f-2c05-4baa-9e31-7660533320ad",
   "metadata": {},
   "source": [
    "#### 14. How does the “in” keyword work differently for lists and dictionaries?"
   ]
  },
  {
   "cell_type": "markdown",
   "id": "71b8b1de-d4ab-404a-a1ba-91588ca6d134",
   "metadata": {},
   "source": [
    "- In the **list** the **'*in*'** keyword checks whether a value exists in the list.\n",
    "- In the list, in will return True if the value is one of the elements.\n",
    "\n",
    "- In **Dictionaries** the **'*in*'** keyword checks whether a key exists in the dictionary — not the value.\n",
    "- In the dictionary, in will return True only if the value matches a key, not a value.\n",
    "\n"
   ]
  },
  {
   "cell_type": "markdown",
   "id": "fc8fcecd-e5a4-4412-a1f8-35783b87cf21",
   "metadata": {},
   "source": [
    "#### 15.  Can you modify the elements of a tuple? Explain why or why not"
   ]
  },
  {
   "cell_type": "markdown",
   "id": "baef71fb-8dfa-4fec-bf25-e382d551bed5",
   "metadata": {},
   "source": [
    "- No, you cannot modify the elements of a tuple in Python because tuples are immutable.\n",
    "- Immutability means that once a tuple is created, its contents (elements) cannot be changed, added to, or removed.\n",
    "- This includes changing existing elements or appending new ones.\n",
    "\n"
   ]
  },
  {
   "cell_type": "markdown",
   "id": "bfdbe88a-97ea-49c0-ad01-91ca02663275",
   "metadata": {},
   "source": [
    "#### 16. What is a nested dictionary, and give an example of its use case?"
   ]
  },
  {
   "cell_type": "markdown",
   "id": "a22604ad-86c1-4791-bbfe-4d2f73981fdf",
   "metadata": {},
   "source": [
    "- A nested dictionary is a dictionary where one or more values are themselves dictionaries. This creates a hierarchical or multi-level structure, allowing you to represent more complex data.\n",
    "\n"
   ]
  },
  {
   "cell_type": "code",
   "execution_count": 1,
   "id": "70dc1b92-25aa-43de-a21d-05970c0bf102",
   "metadata": {
    "tags": []
   },
   "outputs": [
    {
     "data": {
      "text/plain": [
       "{'Fahim': {'age': 24, 'grade': '15th', 'subjects': ['Math', 'Science']},\n",
       " 'Ajay': {'age': 35, 'grade': '18th', 'subjects': ['Statistics', 'ML']}}"
      ]
     },
     "execution_count": 1,
     "metadata": {},
     "output_type": "execute_result"
    }
   ],
   "source": [
    "#Example\n",
    "students = {\n",
    "    \"Fahim\": {\n",
    "        \"age\": 24,\n",
    "        \"grade\": \"15th\",\n",
    "        \"subjects\": [\"Math\", \"Science\"]\n",
    "    },\n",
    "    \"Ajay\": {\n",
    "        \"age\": 35,\n",
    "        \"grade\": \"18th\",\n",
    "        \"subjects\": [\"Statistics\", \"ML\"]\n",
    "    }\n",
    "}\n",
    "students"
   ]
  },
  {
   "cell_type": "markdown",
   "id": "7062c222-2542-4f0c-91e6-6e466cb7fad5",
   "metadata": {},
   "source": [
    "#### 17. Describe the time complexity of accessing elements in a dictionary"
   ]
  },
  {
   "cell_type": "markdown",
   "id": "645df876-9f80-4a2b-971e-32349c447e03",
   "metadata": {},
   "source": [
    "- Dictionaries use a hash table under the hood.\n",
    "\n",
    "- When you access a value using a key, Python computes the key's hash, then directly retrieves the corresponding value.\n",
    "\n",
    "- This makes dictionary lookups very fast, regardless of the size of the dictionary.\n",
    "\n",
    "- Average Case\tO(1)\n",
    "- Worst Case O(n)\n",
    "\n"
   ]
  },
  {
   "cell_type": "markdown",
   "id": "e0b41118-2303-409c-a015-c69dd22700f3",
   "metadata": {},
   "source": [
    "#### 18. In what situations are lists preferred over dictionaries"
   ]
  },
  {
   "cell_type": "markdown",
   "id": "48e322bb-5f23-493a-886a-06fbddd10725",
   "metadata": {},
   "source": [
    "- **Order Matters:** When the sequence of elements is important.\n",
    "\n",
    "- **No Meaningful Keys:** When you only need a collection of values, not key-value pairs.\n",
    "\n",
    "- **Index-Based Access:** When accessing elements by position (index) is needed.\n",
    "\n",
    "- **Simple Iteration:** When you just need to loop through the elements.\n",
    "\n"
   ]
  },
  {
   "cell_type": "markdown",
   "id": "2da0d5fc-8c6b-447e-9df5-4623fac869f8",
   "metadata": {},
   "source": [
    "#### 19.  Why are dictionaries considered unordered, and how does that affect data retrieva"
   ]
  },
  {
   "cell_type": "markdown",
   "id": "0e3db7bd-e421-43eb-a380-911014f35006",
   "metadata": {},
   "source": [
    "- **Dictionaries** are unordered because they are built on a hash table where elements are stored according to their hashed keys, not by the order of insertion.\n",
    "\n",
    "- This makes retrieval by key very efficient (O(1) on average), but if you need to maintain or rely on the order of elements, dictionaries (even in Python 3.7+) may not be the best choice."
   ]
  },
  {
   "cell_type": "markdown",
   "id": "ec127745-b641-494b-ad02-430dface9ac0",
   "metadata": {},
   "source": [
    "#### 20. Explain the difference between a list and a dictionary in terms of data retrieval"
   ]
  },
  {
   "cell_type": "markdown",
   "id": "a5f44bd2-4a6b-43b4-9e1e-96cd4813c2b7",
   "metadata": {},
   "source": [
    "- The key difference between a list and a dictionary in terms of data retrieval lies in how elements are accessed and the structure used for each.\n",
    "- **List:** A list is an ordered collection of elements. It is accessed via indexing (i.e., based on position).\n",
    "- You retrieve an element by its index in the list (e.g., my_list[2] retrieves the element at the 3rd position).\n",
    "- **Dictionary:** A dictionary is an unordered collection of key-value pairs. It is accessed via keys (i.e., identifiers for the data).\n",
    "- You retrieve a value by its key (e.g., my_dict[\"name\"] retrieves the value associated with the \"name\" key).\n",
    "- Unlike lists, dictionaries do not rely on indices or order but rather on unique keys.\n",
    "\n",
    "\n"
   ]
  },
  {
   "cell_type": "code",
   "execution_count": null,
   "id": "defcf136-facf-4fd4-a125-c1eb5c2f06eb",
   "metadata": {},
   "outputs": [],
   "source": []
  },
  {
   "cell_type": "code",
   "execution_count": null,
   "id": "78faf290-b921-4424-bca6-5978dae7a69d",
   "metadata": {},
   "outputs": [],
   "source": []
  },
  {
   "cell_type": "markdown",
   "id": "49cfd17f-f739-4162-b3d9-a7c609462587",
   "metadata": {},
   "source": [
    "# Practical Questions"
   ]
  },
  {
   "cell_type": "markdown",
   "id": "f73c9853-b089-43b8-8dd6-36261d6a0efd",
   "metadata": {
    "tags": []
   },
   "source": [
    "#### 1. Write a code to create a string with your name and print it.\n"
   ]
  },
  {
   "cell_type": "code",
   "execution_count": 15,
   "id": "65eb1af5-4fc0-413b-880c-03ac96677f67",
   "metadata": {
    "tags": []
   },
   "outputs": [
    {
     "name": "stdout",
     "output_type": "stream",
     "text": [
      "Fahim Ahmad\n"
     ]
    }
   ],
   "source": [
    "name  = \"Fahim Ahmad\"\n",
    "print(name)"
   ]
  },
  {
   "cell_type": "code",
   "execution_count": null,
   "id": "57cc6782-c5ad-464e-ae2c-26050cfb507c",
   "metadata": {},
   "outputs": [],
   "source": []
  },
  {
   "cell_type": "markdown",
   "id": "b290eb84-bff7-495c-8015-cd54a26ed021",
   "metadata": {},
   "source": [
    "#### 2. Write a code to find the length of the string \"Hello World\"."
   ]
  },
  {
   "cell_type": "code",
   "execution_count": 16,
   "id": "423e3ba0-a945-4136-875a-1ad0c60cc4d4",
   "metadata": {
    "tags": []
   },
   "outputs": [
    {
     "name": "stdout",
     "output_type": "stream",
     "text": [
      "Lenght: 11\n"
     ]
    }
   ],
   "source": [
    "a =  \"Hello World\"\n",
    "print(\"Lenght:\",len( a))"
   ]
  },
  {
   "cell_type": "markdown",
   "id": "bd653e82-56e2-444a-af41-d66ad98d606c",
   "metadata": {},
   "source": [
    "\n",
    "#### 3. Write a code to slice the first 3 characters from the string \"Python Programming\"."
   ]
  },
  {
   "cell_type": "code",
   "execution_count": 17,
   "id": "74dcabf6-1bb5-4679-a9a0-61d0094ea57a",
   "metadata": {
    "tags": []
   },
   "outputs": [
    {
     "data": {
      "text/plain": [
       "'Pyt'"
      ]
     },
     "execution_count": 17,
     "metadata": {},
     "output_type": "execute_result"
    }
   ],
   "source": [
    "lang = \"Python Programming\"\n",
    "lang[:3]"
   ]
  },
  {
   "cell_type": "markdown",
   "id": "e97cc0ad-c997-43d7-9b2f-fd3a695f7f26",
   "metadata": {
    "tags": []
   },
   "source": [
    "#### 4. Write a code to convert the string \"hello\" to uppercase"
   ]
  },
  {
   "cell_type": "code",
   "execution_count": 18,
   "id": "9a6d4ae8-2919-4e37-96eb-25a4dc499061",
   "metadata": {
    "tags": []
   },
   "outputs": [
    {
     "data": {
      "text/plain": [
       "'HELLOW'"
      ]
     },
     "execution_count": 18,
     "metadata": {},
     "output_type": "execute_result"
    }
   ],
   "source": [
    "a=\"hellow\"\n",
    "a.upper()"
   ]
  },
  {
   "cell_type": "markdown",
   "id": "69a106c7-e94d-4585-bff0-a77a8589dac2",
   "metadata": {},
   "source": [
    "\n",
    "#### 5. Write a code to replace the word \"apple\" with \"orange\" in the string \n",
    "\n",
    "#### I like apple\""
   ]
  },
  {
   "cell_type": "code",
   "execution_count": 19,
   "id": "db8fb054-ee35-4cbc-9e8c-bf415a308724",
   "metadata": {
    "tags": []
   },
   "outputs": [
    {
     "ename": "TypeError",
     "evalue": "'str' object does not support item assignment",
     "output_type": "error",
     "traceback": [
      "\u001b[0;31m---------------------------------------------------------------------------\u001b[0m",
      "\u001b[0;31mTypeError\u001b[0m                                 Traceback (most recent call last)",
      "Cell \u001b[0;32mIn[19], line 2\u001b[0m\n\u001b[1;32m      1\u001b[0m a\u001b[38;5;241m=\u001b[39m \u001b[38;5;124m\"\u001b[39m\u001b[38;5;124mI like apple\u001b[39m\u001b[38;5;124m\"\u001b[39m\n\u001b[0;32m----> 2\u001b[0m a[\u001b[38;5;124m'\u001b[39m\u001b[38;5;124mapple\u001b[39m\u001b[38;5;124m'\u001b[39m]\u001b[38;5;241m=\u001b[39m \u001b[38;5;124m\"\u001b[39m\u001b[38;5;124morange\u001b[39m\u001b[38;5;124m\"\u001b[39m\n",
      "\u001b[0;31mTypeError\u001b[0m: 'str' object does not support item assignment"
     ]
    }
   ],
   "source": [
    "a= \"I like apple\"\n",
    "a['apple']= \"orange\" # A string is an ranimmutable object, hence it will throw an error"
   ]
  },
  {
   "cell_type": "markdown",
   "id": "083210a5-c123-44b3-8fa8-c3557a47e636",
   "metadata": {},
   "source": [
    "\n",
    "#### 6.  Write a code to create a list with numbers 1 to 5 and print it."
   ]
  },
  {
   "cell_type": "code",
   "execution_count": 20,
   "id": "475f81c2-ef99-4d0c-b4ff-3c8a45c40195",
   "metadata": {
    "tags": []
   },
   "outputs": [
    {
     "name": "stdout",
     "output_type": "stream",
     "text": [
      "[1, 2, 3, 4, 5]\n",
      "<class 'list'>\n",
      "\n",
      "\n",
      "[1, 2, 3, 4, 5]\n",
      "<class 'list'>\n"
     ]
    }
   ],
   "source": [
    "lis = [1,2,3,4,5]\n",
    "print(lis)\n",
    "print(type(lis))\n",
    "\n",
    "#or\n",
    "\n",
    "print(\"\\n\")\n",
    "\n",
    "a=[i for i in range(1,6)]\n",
    "print(a)\n",
    "print(type(a))"
   ]
  },
  {
   "cell_type": "markdown",
   "id": "675b00db-ba01-41de-abaf-8567fff738ea",
   "metadata": {},
   "source": [
    "#### 7. Write a code to append the number 10 to the list [1, 2, 3, 4]"
   ]
  },
  {
   "cell_type": "code",
   "execution_count": 21,
   "id": "4539a9d6-5c35-48f7-b777-2dec6abcc32c",
   "metadata": {
    "tags": []
   },
   "outputs": [
    {
     "data": {
      "text/plain": [
       "[1, 2, 3, 4, 10]"
      ]
     },
     "execution_count": 21,
     "metadata": {},
     "output_type": "execute_result"
    }
   ],
   "source": [
    "list = [1,2,3,4]\n",
    "list.append(10)\n",
    "list"
   ]
  },
  {
   "cell_type": "markdown",
   "id": "bff371df-e564-4ace-a059-ea7b77ee9fc0",
   "metadata": {},
   "source": [
    "#### 8. Write a code to remove the number 3 from the list [1, 2, 3, 4, 5]"
   ]
  },
  {
   "cell_type": "code",
   "execution_count": 22,
   "id": "fd511892-31e4-4d61-a71e-15feb45c8aa9",
   "metadata": {
    "tags": []
   },
   "outputs": [
    {
     "data": {
      "text/plain": [
       "[1, 2, 4, 5]"
      ]
     },
     "execution_count": 22,
     "metadata": {},
     "output_type": "execute_result"
    }
   ],
   "source": [
    "list = [1,2,3,4,5]\n",
    "list.remove(3)\n",
    "list"
   ]
  },
  {
   "cell_type": "markdown",
   "id": "9b2b7b3e-3f14-4a95-8a91-b52b490537ff",
   "metadata": {},
   "source": [
    "#### 9. Write a code to access the second element in the list ['a', 'b', 'c', 'd']"
   ]
  },
  {
   "cell_type": "code",
   "execution_count": 23,
   "id": "d3478627-c05a-4f4d-a388-1810cad4c9e9",
   "metadata": {
    "tags": []
   },
   "outputs": [
    {
     "data": {
      "text/plain": [
       "'b'"
      ]
     },
     "execution_count": 23,
     "metadata": {},
     "output_type": "execute_result"
    }
   ],
   "source": [
    "list = ['a', 'b', 'c', 'd']\n",
    "list[1]\n"
   ]
  },
  {
   "cell_type": "markdown",
   "id": "34b40aaa-ce0d-4b85-8835-39f52781fd4c",
   "metadata": {},
   "source": [
    "#### 10. Write a code to reverse the list [10, 20, 30, 40, 50]."
   ]
  },
  {
   "cell_type": "code",
   "execution_count": 24,
   "id": "7034aff7-1953-4442-92e5-28713e104231",
   "metadata": {
    "tags": []
   },
   "outputs": [
    {
     "name": "stdout",
     "output_type": "stream",
     "text": [
      "[50, 40, 30, 20, 10]\n",
      "[50, 240, 32, 20, 10]\n"
     ]
    }
   ],
   "source": [
    "list = [10, 20, 30, 40, 50]\n",
    "list.reverse()\n",
    "print(list)\n",
    "\n",
    "#or\n",
    "\n",
    "list_1 = [10, 20, 32, 240, 50]\n",
    "print(list_1[::-1])"
   ]
  },
  {
   "cell_type": "markdown",
   "id": "f296f9e8-1f0e-41b5-8769-be1a75e246bb",
   "metadata": {},
   "source": [
    "#### 11. Write a code to create a tuple with the elements 100, 200, 300 and print it"
   ]
  },
  {
   "cell_type": "code",
   "execution_count": 25,
   "id": "0ebfc797-fe95-47ba-849c-0c7f0eb363ea",
   "metadata": {
    "tags": []
   },
   "outputs": [
    {
     "name": "stdout",
     "output_type": "stream",
     "text": [
      "(100, 200, 300)\n",
      "<class 'tuple'>\n"
     ]
    }
   ],
   "source": [
    "Tuple = (100,200,300)\n",
    "print(Tuple)\n",
    "print(type(Tuple))"
   ]
  },
  {
   "cell_type": "markdown",
   "id": "a8946fdf-c23b-4e9e-9743-4549f1866b10",
   "metadata": {},
   "source": [
    "#### 12.  Write a code to access the second-to-last element of the tuple ('red', 'green', 'blue', 'yellow')"
   ]
  },
  {
   "cell_type": "code",
   "execution_count": 26,
   "id": "725e6142-6b70-4a5b-9222-2624a9232dac",
   "metadata": {
    "tags": []
   },
   "outputs": [
    {
     "data": {
      "text/plain": [
       "'blue'"
      ]
     },
     "execution_count": 26,
     "metadata": {},
     "output_type": "execute_result"
    }
   ],
   "source": [
    "a = ('red', 'green', 'blue', 'yellow')\n",
    "a[-2]\n"
   ]
  },
  {
   "cell_type": "markdown",
   "id": "c668fd14-6509-40a6-a075-a6c2c0bd1f60",
   "metadata": {},
   "source": [
    "#### 13.  Write a code to find the minimum number in the tuple (10, 20, 5, 15)."
   ]
  },
  {
   "cell_type": "code",
   "execution_count": 27,
   "id": "fa813a45-860a-4123-8c9f-8a321fab60bb",
   "metadata": {
    "tags": []
   },
   "outputs": [
    {
     "data": {
      "text/plain": [
       "5"
      ]
     },
     "execution_count": 27,
     "metadata": {},
     "output_type": "execute_result"
    }
   ],
   "source": [
    "a =(10, 20, 5, 15)\n",
    "min(a)"
   ]
  },
  {
   "cell_type": "markdown",
   "id": "ee552060-64f4-4246-9504-2393ef34450d",
   "metadata": {},
   "source": [
    "#### 14.  Write a code to find the index of the element \"cat\" in the tuple ('dog', 'cat', 'rabbit')"
   ]
  },
  {
   "cell_type": "code",
   "execution_count": 28,
   "id": "0021f198-94e2-462a-86ff-c870fe687d22",
   "metadata": {
    "tags": []
   },
   "outputs": [
    {
     "data": {
      "text/plain": [
       "1"
      ]
     },
     "execution_count": 28,
     "metadata": {},
     "output_type": "execute_result"
    }
   ],
   "source": [
    "tuple= ('dog', 'cat', 'rabbit')\n",
    "tuple.index('cat')\n"
   ]
  },
  {
   "cell_type": "markdown",
   "id": "419670a7-2ff0-4cdc-99d5-598378a403e5",
   "metadata": {},
   "source": [
    "#### 15. . Write a code to create a tuple containing three different fruits \n",
    "#### and check if \"kiwi\" is in it."
   ]
  },
  {
   "cell_type": "code",
   "execution_count": 29,
   "id": "a70b7c16-d119-4965-83e7-758d3a010fe7",
   "metadata": {
    "tags": []
   },
   "outputs": [
    {
     "data": {
      "text/plain": [
       "False"
      ]
     },
     "execution_count": 29,
     "metadata": {},
     "output_type": "execute_result"
    }
   ],
   "source": [
    "fruit= [\"apple\", \"Mango\", \"orange\"]\n",
    "\"kiwi\" in fruit\n",
    "        "
   ]
  },
  {
   "cell_type": "markdown",
   "id": "671b1197-d94c-4e3b-9b58-c7915728989e",
   "metadata": {},
   "source": [
    "#### 16. Write a code to create a set with the elements 'a', 'b', 'c' and print i"
   ]
  },
  {
   "cell_type": "code",
   "execution_count": 30,
   "id": "30a385ba-22e0-4ecf-96db-709374e229cb",
   "metadata": {
    "tags": []
   },
   "outputs": [
    {
     "name": "stdout",
     "output_type": "stream",
     "text": [
      "{'a', 'c', 'b'}\n",
      "<class 'set'>\n"
     ]
    }
   ],
   "source": [
    "Set = {'a', 'b', 'c'}\n",
    "print(Set)\n",
    "print(type(Set))"
   ]
  },
  {
   "cell_type": "markdown",
   "id": "83461f85-3a74-4394-b626-54ef60c3339f",
   "metadata": {},
   "source": [
    "#### 17. Write a code to clear all elements from the set {1, 2, 3, 4, 5}"
   ]
  },
  {
   "cell_type": "code",
   "execution_count": 31,
   "id": "42a5adfe-9c4f-4f0a-9530-56fb0896bea9",
   "metadata": {
    "tags": []
   },
   "outputs": [
    {
     "name": "stdout",
     "output_type": "stream",
     "text": [
      "set()\n"
     ]
    }
   ],
   "source": [
    "Set= {1, 2, 3, 4, 5,68}\n",
    "Set.clear()\n",
    "print(Set)"
   ]
  },
  {
   "cell_type": "markdown",
   "id": "3a4dfb6d-2dde-45cb-92a1-9cae446e1423",
   "metadata": {},
   "source": [
    " #### 18. Write a code to remove the element 4 from the set {1, 2, 3, 4}"
   ]
  },
  {
   "cell_type": "code",
   "execution_count": 32,
   "id": "d330b8e0-095c-4f52-b218-ea0b970863a1",
   "metadata": {
    "tags": []
   },
   "outputs": [
    {
     "name": "stdout",
     "output_type": "stream",
     "text": [
      "{1, 2, 3}\n"
     ]
    }
   ],
   "source": [
    "Set= {1, 2, 3, 4}\n",
    "\n",
    "Set.remove(4)\n",
    "print(Set)"
   ]
  },
  {
   "cell_type": "markdown",
   "id": "49b0a2a7-02f3-417d-a3b5-0e16f23fca27",
   "metadata": {},
   "source": [
    "#### 19.  Write a code to find the union of two sets {1, 2, 3} and {3, 4, 5}"
   ]
  },
  {
   "cell_type": "code",
   "execution_count": 33,
   "id": "0afc006e-f434-4a1d-99b8-b29163b54a07",
   "metadata": {
    "tags": []
   },
   "outputs": [
    {
     "name": "stdout",
     "output_type": "stream",
     "text": [
      "Union of 2 sets: {1, 2, 3, 4, 5}\n"
     ]
    }
   ],
   "source": [
    "set_1 = {1, 2, 3} \n",
    "set_2 = {3, 4, 5}\n",
    "\n",
    "union= set_1 | set_2\n",
    "print(\"Union of 2 sets:\", union)\n"
   ]
  },
  {
   "cell_type": "markdown",
   "id": "da37927f-5ba1-4024-b9dc-6b03fb0c083e",
   "metadata": {},
   "source": [
    " #### 20. Write a code to find the intersection of two sets {1, 2, 3} and {2, 3, 4}"
   ]
  },
  {
   "cell_type": "code",
   "execution_count": 34,
   "id": "5f7059fa-cb95-4184-96f7-10577317425d",
   "metadata": {},
   "outputs": [
    {
     "name": "stdout",
     "output_type": "stream",
     "text": [
      "Intersection of two sets: {2, 3}\n"
     ]
    }
   ],
   "source": [
    "set_1 = {1, 2, 3} \n",
    "set_2 = {2,3,4}\n",
    "\n",
    "final_set = set_1 & set_2\n",
    "print(\"Intersection of two sets:\", final_set)\n",
    "\n"
   ]
  },
  {
   "cell_type": "code",
   "execution_count": null,
   "id": "cc8382a4-c022-4b27-9e1a-4860f2c56955",
   "metadata": {},
   "outputs": [],
   "source": []
  },
  {
   "cell_type": "markdown",
   "id": "753a31ad-9f3d-4b74-82d8-57fdd12a649b",
   "metadata": {},
   "source": [
    "#### 21. Write a code to create a dictionary with the keys \"name\", \"age\", and \n",
    "#### \"city\", and print it"
   ]
  },
  {
   "cell_type": "code",
   "execution_count": 35,
   "id": "8ec6648e-5328-4020-b740-db6c77d99dff",
   "metadata": {
    "tags": []
   },
   "outputs": [
    {
     "data": {
      "text/plain": [
       "{'Name': 'Fahim', 'Age': 24, 'City': 'Mumbai'}"
      ]
     },
     "execution_count": 35,
     "metadata": {},
     "output_type": "execute_result"
    }
   ],
   "source": [
    "dic = { \n",
    "    \n",
    "    'Name':\"Fahim\", \n",
    "    \"Age\":24,\n",
    "    'City':\"Mumbai\"\n",
    "}\n",
    "\n",
    "dic"
   ]
  },
  {
   "cell_type": "markdown",
   "id": "66579714-9685-437d-8477-7c64bdd553e6",
   "metadata": {},
   "source": [
    "#### 22. Write a code to add a new key-value pair \"country\": \"USA\" to the\n",
    "#### dictionary {'name': 'John', 'age': 25}"
   ]
  },
  {
   "cell_type": "code",
   "execution_count": 36,
   "id": "e8c9eabe-1a87-4976-b71b-b63363622b3d",
   "metadata": {
    "tags": []
   },
   "outputs": [
    {
     "data": {
      "text/plain": [
       "{'name': 'John', 'age': 30, 'Country': 'USA'}"
      ]
     },
     "execution_count": 36,
     "metadata": {},
     "output_type": "execute_result"
    }
   ],
   "source": [
    "dic ={\n",
    "    'name':'John', 'age':30\n",
    "}\n",
    "dic[\"Country\"]=\"USA\"\n",
    "dic\n"
   ]
  },
  {
   "cell_type": "markdown",
   "id": "80ba15a9-6690-4056-8a41-ea91287a13be",
   "metadata": {},
   "source": [
    "#### 23.  Write a code to access the value associated with the key \"name\" in the dictionary {'name': 'Alice', 'age': 30}"
   ]
  },
  {
   "cell_type": "code",
   "execution_count": 37,
   "id": "7472c290-768a-4a99-aa56-a841918e084f",
   "metadata": {
    "tags": []
   },
   "outputs": [
    {
     "name": "stdout",
     "output_type": "stream",
     "text": [
      "{'name': 'Alice', 'age': 30}\n"
     ]
    },
    {
     "data": {
      "text/plain": [
       "'Alice'"
      ]
     },
     "execution_count": 37,
     "metadata": {},
     "output_type": "execute_result"
    }
   ],
   "source": [
    "dic ={\n",
    "    'name':'Alice', 'age':30\n",
    "}\n",
    "print(dic)\n",
    "\n",
    "dic['name']"
   ]
  },
  {
   "cell_type": "markdown",
   "id": "fd85a22b-1c36-4324-8c09-68c24d003d55",
   "metadata": {},
   "source": [
    "#### 24.  Write a code to remove the key \"age\" from the dictionary {'name': 'Bob','age': 22, 'city': 'New York'}"
   ]
  },
  {
   "cell_type": "code",
   "execution_count": 38,
   "id": "63253ee6-5dd9-4a80-8b2e-7ed3e2a4a8fc",
   "metadata": {
    "tags": []
   },
   "outputs": [
    {
     "data": {
      "text/plain": [
       "{'name': 'Bob', 'city': 'New York'}"
      ]
     },
     "execution_count": 38,
     "metadata": {},
     "output_type": "execute_result"
    }
   ],
   "source": [
    "dic = {'name': 'Bob', 'age': 22, 'city': 'New York'}\n",
    "\n",
    "dic.pop('age')\n",
    "    \n",
    "dic"
   ]
  },
  {
   "cell_type": "markdown",
   "id": "ba18db0b-26f0-41c8-8a6f-1935844277ca",
   "metadata": {},
   "source": [
    "#### 25. Write a code to check if the key \"city\" exists in the dictionary {'name': 'Alice', \n",
    "\n",
    " #### 'city': 'Paris'}."
   ]
  },
  {
   "cell_type": "code",
   "execution_count": 39,
   "id": "664eefeb-55cb-403f-ae59-c631bf6ea788",
   "metadata": {
    "tags": []
   },
   "outputs": [
    {
     "name": "stdout",
     "output_type": "stream",
     "text": [
      "{'name': 'Alice', 'city': 'Paris'}\n"
     ]
    },
    {
     "data": {
      "text/plain": [
       "True"
      ]
     },
     "execution_count": 39,
     "metadata": {},
     "output_type": "execute_result"
    }
   ],
   "source": [
    "dic =  {\n",
    "        'name': 'Alice',\n",
    "        'city': 'Paris'\n",
    "       }\n",
    "print(dic)\n",
    "'city' in dic\n",
    "\n"
   ]
  },
  {
   "cell_type": "markdown",
   "id": "9d341f84-2cf7-49db-afd9-a20ce0f2b4bf",
   "metadata": {},
   "source": [
    "#### 26. Write a code to create a list, a tuple, and a dictionary, and print them all."
   ]
  },
  {
   "cell_type": "code",
   "execution_count": 40,
   "id": "ffccc4af-7c19-4332-8426-a8a8067a4bf5",
   "metadata": {
    "tags": []
   },
   "outputs": [
    {
     "name": "stdout",
     "output_type": "stream",
     "text": [
      "List: [1, 2, 3, 4, 5]\n",
      "Tuple: ('apple', 'banana', 'cherry')\n",
      "Dictionary: {'name': 'Alice', 'age': 30, 'city': 'New York'}\n"
     ]
    }
   ],
   "source": [
    "\n",
    "my_list = [1, 2, 3, 4, 5]\n",
    "\n",
    "\n",
    "my_tuple = ('apple', 'banana', 'cherry')\n",
    "\n",
    "\n",
    "my_dict = {'name': 'Alice', 'age': 30, 'city': 'New York'}\n",
    "\n",
    "\n",
    "print(\"List:\", my_list)\n",
    "print(\"Tuple:\", my_tuple)\n",
    "print(\"Dictionary:\", my_dict)\n"
   ]
  },
  {
   "cell_type": "markdown",
   "id": "5ff08c8f-a224-4bd9-819b-cec34cb7eb15",
   "metadata": {},
   "source": [
    "#### 27. Write a code to create a list of 5 random numbers between 1 and 100, sort it in \n",
    "\n",
    "#### ascending order, and print the result.(replaced)\n"
   ]
  },
  {
   "cell_type": "code",
   "execution_count": 41,
   "id": "215c3256-6207-4074-92ab-6bd21186cb5e",
   "metadata": {
    "tags": []
   },
   "outputs": [
    {
     "data": {
      "text/plain": [
       "[22, 33, 43, 44, 56]"
      ]
     },
     "execution_count": 41,
     "metadata": {},
     "output_type": "execute_result"
    }
   ],
   "source": [
    "random_num = [43,22,33,56,44]\n",
    "random_num.sort()\n",
    "random_num"
   ]
  },
  {
   "cell_type": "markdown",
   "id": "7faa0657-d09c-42d2-8086-609450e2b216",
   "metadata": {},
   "source": [
    "#### 28. Write a code to create a list with strings and print the element at the third index.\n"
   ]
  },
  {
   "cell_type": "code",
   "execution_count": 42,
   "id": "49f72970-c8eb-4786-a565-24317d0b5ade",
   "metadata": {
    "tags": []
   },
   "outputs": [
    {
     "data": {
      "text/plain": [
       "'Data Analyst'"
      ]
     },
     "execution_count": 42,
     "metadata": {},
     "output_type": "execute_result"
    }
   ],
   "source": [
    "my_list= [\"Fahim\", \"Ahmad\", \"Mumbai\", \"Data Analyst\", \"Pwskills\"]\n",
    "my_list[3]\n",
    "my_list[-2]"
   ]
  },
  {
   "cell_type": "markdown",
   "id": "b2c8ab69-e8ad-45c7-8e7c-1e852cc9a7d1",
   "metadata": {},
   "source": [
    "#### 29. Write a code to combine two dictionaries into one and print the result"
   ]
  },
  {
   "cell_type": "code",
   "execution_count": 43,
   "id": "8c9f95cb-722f-42c1-88c7-0624a3d947ea",
   "metadata": {
    "tags": []
   },
   "outputs": [
    {
     "name": "stdout",
     "output_type": "stream",
     "text": [
      "{'name': 'Alice', 'age': 30, 'city': 'New York'}\n",
      "{'id': 101, 'name': 'Laptop', 'price': 778}\n",
      "{'name': 'Laptop', 'age': 30, 'city': 'New York', 'id': 101, 'price': 778}\n"
     ]
    }
   ],
   "source": [
    "person = {\n",
    "    \"name\": \"Alice\",\n",
    "    \"age\": 30,\n",
    "    \"city\": \"New York\"\n",
    "}\n",
    "\n",
    "\n",
    "product = {\n",
    "    \"id\": 101,\n",
    "    \"name\": \"Laptop\",\n",
    "    \"price\": 778\n",
    "}\n",
    "\n",
    "print(person)\n",
    "print(product)\n",
    "combined_list = person | product\n",
    "print(combined_list)"
   ]
  },
  {
   "cell_type": "markdown",
   "id": "6695e671-098c-4b75-8f86-e54df0c425bb",
   "metadata": {},
   "source": [
    "#### 30. Write a code to convert a list of strings into a set."
   ]
  },
  {
   "cell_type": "code",
   "execution_count": 13,
   "id": "ee4be63d-ed87-43e0-9773-f8ce78a707a4",
   "metadata": {
    "tags": []
   },
   "outputs": [
    {
     "name": "stdout",
     "output_type": "stream",
     "text": [
      "{'Pwskills', 'Data Analyst', 'Ahmad', 'Fahim', 'Mumbai'}\n",
      "<class 'set'>\n"
     ]
    }
   ],
   "source": [
    "intro = [\"Fahim\", \"Ahmad\", \"Mumbai\", \"Data Analyst\", \"Pwskills\"]\n",
    "a=set(intro)\n",
    "print(a)\n",
    "print(type(a))"
   ]
  },
  {
   "cell_type": "code",
   "execution_count": null,
   "id": "27b63e74-c415-48ad-b653-5647e482a99f",
   "metadata": {
    "tags": []
   },
   "outputs": [],
   "source": []
  },
  {
   "cell_type": "code",
   "execution_count": null,
   "id": "35518d3c-ebb6-40ed-bf9d-bb1ea9e2d2ff",
   "metadata": {
    "tags": []
   },
   "outputs": [],
   "source": []
  }
 ],
 "metadata": {
  "kernelspec": {
   "display_name": "Python 3 (ipykernel)",
   "language": "python",
   "name": "python3"
  },
  "language_info": {
   "codemirror_mode": {
    "name": "ipython",
    "version": 3
   },
   "file_extension": ".py",
   "mimetype": "text/x-python",
   "name": "python",
   "nbconvert_exporter": "python",
   "pygments_lexer": "ipython3",
   "version": "3.11.4"
  }
 },
 "nbformat": 4,
 "nbformat_minor": 5
}
